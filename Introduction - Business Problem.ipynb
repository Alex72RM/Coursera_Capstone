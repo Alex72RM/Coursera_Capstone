{
 "cells": [
  {
   "cell_type": "markdown",
   "metadata": {},
   "source": [
    "# Introduction/Business Problem"
   ]
  },
  {
   "cell_type": "markdown",
   "metadata": {},
   "source": [
    "## Describe the background and specify the core problem"
   ]
  },
  {
   "cell_type": "markdown",
   "metadata": {},
   "source": [
    "The city of Rome is the capital of Italy, an unparalleled historical and cultural patrimony. \n",
    "Among stable citizens (just under 3 million in 2017) and tourists throughout the year for its mild climate (29 million according to 2018 statistics), it is an absolute _must visit_ among the cities of Europe, if not the world.\n",
    "According to this assumption, which is difficult to refute, it is of interest to evaluate the possibility of creating new commercial premises such as restaurants or pizzerias (or other types not sufficiently widespread to serve users), especially in parts of the city that are deficient in this type of structure (both in quantity and quality)."
   ]
  },
  {
   "cell_type": "markdown",
   "metadata": {},
   "source": [
    "This business plan is therefore aimed at entrepreneurs in the restaurant sector who have the aim of identifying placements for new structures with prudent choices on where to create them.\n",
    "The benefits of a prudent choice is in maximizing the ROI in the shortest possible time, therefore also being able to employ staff (reception/cooks/waiters), giving also workplaces to citizens."
   ]
  },
  {
   "cell_type": "markdown",
   "metadata": {},
   "source": [
    "In any case, the objectives can be qualified in the short term (identification of the best placement) and in the medium term (define whether to take over a business or request permits to build a new one).\n",
    "The search for the best placement is not however based exclusively on the distribution of the population, but also on the actual presence of commercial activities in the areas of the city and their type. The logical combination of statistical information on the number of citizens and existing activities (also with an assessment of their degree of satisfaction) makes it possible to have an information pool of sure interest for the appropriate assessments."
   ]
  },
  {
   "cell_type": "markdown",
   "metadata": {},
   "source": [
    "From the urban point of view, Rome is divided in a decidedly particular way with four toponymic groups: the first are the districts (so called \"rioni\") that make up the historic center established since the Middle Ages (22 of limited territorial extension); then there are the neighborhoods (so called \"quartieri\") that surround the historic center, reaching as far as Ostia, that is, the sea (35 in all); finally, secondary groups are the suburbs and zones.\n",
    "In this analysis we will focus on the first two (districts and neighborhoods) which comprise the majority of the population and are of greater value as cleaning, transport, security and office presence."
   ]
  },
  {
   "cell_type": "markdown",
   "metadata": {},
   "source": [
    "The main aspects of the Project can also be summarized with a **SWOT** analysis:\n",
    "\n",
    "* **Strenghts**: to have statistical analysis tools and rich information sources to properly evaluate the potential of the city areas\n",
    "* **Weaknesses**: the available data may not be sufficient to accurately evaluate the choices to be made, possibly hiding unrecognized problems (eg, on the security of a specific area)\n",
    "* **Opportunities**: identifying where to start and grow a new business that can employ many people\n",
    "* **Threats**: not having clear ideas at the end of the analysis process, having multiple possibilities potentially to be implemented."
   ]
  },
  {
   "cell_type": "markdown",
   "metadata": {},
   "source": [
    "Taking up the last point (threats) because the algorithm for identifying the best position to start the new business will certainly be influenced by the algorithm that will be adopted: I'm inclined to choose a clustering (**k-means**, unsupervised algorithm) that allows to find the subdivision of the city of Rome according to the variables identified (see the subsequent section on data to clarify); the best value of the number of clusters will be investigated through the _elbow method_."
   ]
  },
  {
   "cell_type": "markdown",
   "metadata": {},
   "source": [
    "The subdivision into clusters will allow to evaluate which areas are e.g. very populated and sparsely rich in positively valued businesses, or sparsely populated and with businesses already at the top of the ratings. The output will therefore be very useful in understanding the choices to be made at the completion of the project."
   ]
  },
  {
   "cell_type": "code",
   "execution_count": null,
   "metadata": {},
   "outputs": [],
   "source": []
  }
 ],
 "metadata": {
  "kernelspec": {
   "display_name": "Python 3",
   "language": "python",
   "name": "python3"
  },
  "language_info": {
   "codemirror_mode": {
    "name": "ipython",
    "version": 3
   },
   "file_extension": ".py",
   "mimetype": "text/x-python",
   "name": "python",
   "nbconvert_exporter": "python",
   "pygments_lexer": "ipython3",
   "version": "3.7.7"
  }
 },
 "nbformat": 4,
 "nbformat_minor": 4
}
