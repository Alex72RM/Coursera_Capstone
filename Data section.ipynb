{
 "cells": [
  {
   "cell_type": "markdown",
   "metadata": {},
   "source": [
    "As for the data that will be used in the analysis process, we will have those relating to the population of Rome regarding districts (Rioni) and neighborhoods (quartieri). These are taken from **Wikipedia** which has statistical data updated to 2015 (for districts) and 2016 (for neighborhoods).\n",
    "* https://it.wikipedia.org/wiki/Quartieri_di_Roma (and subsequent links for the population of each neighborhood)\n",
    "* https://it.wikipedia.org/wiki/Rioni_di_Roma\n",
    "\n",
    "The data acquired concern both the number of inhabitants and the population density.\n",
    "E.g. for the **Parioli district**:\n",
    "* _Inhabitants_ : 13 749 inhab.\n",
    "* _Density_ : 2 894.16 inhab./km²"
   ]
  },
  {
   "cell_type": "markdown",
   "metadata": {},
   "source": [
    "The geographical positions (latitude and longitude coordinates) of each district/neighborhood will be extrapolated through _Google Maps API_ which identifies their geometric centers. In this way they can be viewed superimposed on the map of Rome.\n",
    "E.g. always for the Parioli district, coordinates are 41 ° 55′20.53 ″ N 12 ° 29′32.53 ″ E\n"
   ]
  },
  {
   "cell_type": "markdown",
   "metadata": {},
   "source": [
    "As for the **Foursquare data source**, 100 venues will be acquired at a maximum distance of 500 or 1000 meters (still to be assessed) from the center of each neighborhood/district (the districts being small in size, probably 500 meters is better for them); the number of 100 should be sufficient for a good characterization of their presence on the territory.\n",
    "The information to be extracted includes the type, name, location (street, latitude and longitude).\n",
    "E.g.\n",
    "* _**name**_ :  Papo Chef Pizza & Brace (Da Natalino)\n",
    "* _**categories**_ :  Italian Restaurant \n",
    "* _**address**_ :  Via Gaetano Butera, 7 \n",
    "* _**lat,lng**_ :  41.790998 12.438302"
   ]
  },
  {
   "cell_type": "markdown",
   "metadata": {},
   "source": [
    "As regards the type of queries, we intend to proceed with two levels of analysis: the first is the **venue search**, in order to identify only the current venues; the second is the **venue reccomendations** to identify those that are recommended by users' judgment. The analysis of the output (e.g., the abundance of information returned) will make us lean towards one or the other choice.\n",
    "If _venue ratings_ are available (through **venue details**), these will be acquired as an additional dimension of analysis since the presence of venues with low ratings can be a crucial information for choosing the location where to start the new business."
   ]
  },
  {
   "cell_type": "markdown",
   "metadata": {},
   "source": [
    "Once the places of interest (restaurants, pizzerias, ...) have been identified, the search for the same can be extended with *similar venues* queries to understand the distribution of similar commercial locals in the area."
   ]
  },
  {
   "cell_type": "code",
   "execution_count": null,
   "metadata": {},
   "outputs": [],
   "source": []
  }
 ],
 "metadata": {
  "kernelspec": {
   "display_name": "Python 3",
   "language": "python",
   "name": "python3"
  },
  "language_info": {
   "codemirror_mode": {
    "name": "ipython",
    "version": 3
   },
   "file_extension": ".py",
   "mimetype": "text/x-python",
   "name": "python",
   "nbconvert_exporter": "python",
   "pygments_lexer": "ipython3",
   "version": "3.7.7"
  }
 },
 "nbformat": 4,
 "nbformat_minor": 4
}
